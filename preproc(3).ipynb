{
  "nbformat": 4,
  "nbformat_minor": 0,
  "metadata": {
    "colab": {
      "name": "preproc.ipynb",
      "provenance": [],
      "collapsed_sections": []
    },
    "kernelspec": {
      "name": "python3",
      "display_name": "Python 3"
    },
    "language_info": {
      "name": "python"
    }
  },
  "cells": [
    {
      "cell_type": "code",
      "metadata": {
        "id": "dP08R8JKar1O"
      },
      "source": [
        "import json\n",
        "from transformers import GPT2LMHeadModel, GPT2Tokenizer"
      ],
      "execution_count": 41,
      "outputs": []
    },
    {
      "cell_type": "code",
      "metadata": {
        "colab": {
          "base_uri": "https://localhost:8080/"
        },
        "id": "O-t1kL0Cx_VW",
        "outputId": "f81f6cdd-ea61-430e-86d4-4563f2dcc6f3"
      },
      "source": [
        "pip install transformers\n"
      ],
      "execution_count": 2,
      "outputs": [
        {
          "output_type": "stream",
          "text": [
            "Requirement already satisfied: transformers in /usr/local/lib/python3.7/dist-packages (4.8.2)\n",
            "Requirement already satisfied: pyyaml in /usr/local/lib/python3.7/dist-packages (from transformers) (3.13)\n",
            "Requirement already satisfied: importlib-metadata; python_version < \"3.8\" in /usr/local/lib/python3.7/dist-packages (from transformers) (4.5.0)\n",
            "Requirement already satisfied: huggingface-hub==0.0.12 in /usr/local/lib/python3.7/dist-packages (from transformers) (0.0.12)\n",
            "Requirement already satisfied: tokenizers<0.11,>=0.10.1 in /usr/local/lib/python3.7/dist-packages (from transformers) (0.10.3)\n",
            "Requirement already satisfied: regex!=2019.12.17 in /usr/local/lib/python3.7/dist-packages (from transformers) (2019.12.20)\n",
            "Requirement already satisfied: numpy>=1.17 in /usr/local/lib/python3.7/dist-packages (from transformers) (1.19.5)\n",
            "Requirement already satisfied: packaging in /usr/local/lib/python3.7/dist-packages (from transformers) (20.9)\n",
            "Requirement already satisfied: requests in /usr/local/lib/python3.7/dist-packages (from transformers) (2.23.0)\n",
            "Requirement already satisfied: tqdm>=4.27 in /usr/local/lib/python3.7/dist-packages (from transformers) (4.41.1)\n",
            "Requirement already satisfied: sacremoses in /usr/local/lib/python3.7/dist-packages (from transformers) (0.0.45)\n",
            "Requirement already satisfied: filelock in /usr/local/lib/python3.7/dist-packages (from transformers) (3.0.12)\n",
            "Requirement already satisfied: typing-extensions>=3.6.4; python_version < \"3.8\" in /usr/local/lib/python3.7/dist-packages (from importlib-metadata; python_version < \"3.8\"->transformers) (3.7.4.3)\n",
            "Requirement already satisfied: zipp>=0.5 in /usr/local/lib/python3.7/dist-packages (from importlib-metadata; python_version < \"3.8\"->transformers) (3.4.1)\n",
            "Requirement already satisfied: pyparsing>=2.0.2 in /usr/local/lib/python3.7/dist-packages (from packaging->transformers) (2.4.7)\n",
            "Requirement already satisfied: certifi>=2017.4.17 in /usr/local/lib/python3.7/dist-packages (from requests->transformers) (2021.5.30)\n",
            "Requirement already satisfied: chardet<4,>=3.0.2 in /usr/local/lib/python3.7/dist-packages (from requests->transformers) (3.0.4)\n",
            "Requirement already satisfied: urllib3!=1.25.0,!=1.25.1,<1.26,>=1.21.1 in /usr/local/lib/python3.7/dist-packages (from requests->transformers) (1.24.3)\n",
            "Requirement already satisfied: idna<3,>=2.5 in /usr/local/lib/python3.7/dist-packages (from requests->transformers) (2.10)\n",
            "Requirement already satisfied: click in /usr/local/lib/python3.7/dist-packages (from sacremoses->transformers) (7.1.2)\n",
            "Requirement already satisfied: six in /usr/local/lib/python3.7/dist-packages (from sacremoses->transformers) (1.15.0)\n",
            "Requirement already satisfied: joblib in /usr/local/lib/python3.7/dist-packages (from sacremoses->transformers) (1.0.1)\n"
          ],
          "name": "stdout"
        }
      ]
    },
    {
      "cell_type": "code",
      "metadata": {
        "id": "vHv0AiY0u_if"
      },
      "source": [
        "import torch\n",
        "from torch.utils.data import Dataset\n",
        "from torch.utils.data import DataLoader\n",
        "class TerraDataset(Dataset):\n",
        "\n",
        "\n",
        "    def __init__(self, file):\n",
        "        self.file = file\n",
        "        self.strings = self.load()[0]\n",
        "        self.predict = torch.tensor(self.load()[1])\n",
        "        self.tokens = self.transform()\n",
        "\n",
        "    def load(self):\n",
        "      data = [json.loads(d) for d in open(self.file, encoding=\"utf-8\")]\n",
        "      s1 = []\n",
        "      s2 = []\n",
        "      for a in data:\n",
        "        s1.append( a['premise']+' ~> '+a['hypothesis'])\n",
        "        if a['label']== 'entailment':\n",
        "          s2.append(1)\n",
        "        else:\n",
        "          s2.append(0)\n",
        "      return [s1,s2]\n",
        "\n",
        "    def transform(self):\n",
        "      model_name_or_path = \"sberbank-ai/rugpt3small_based_on_gpt2\"\n",
        "      tokenizer = GPT2Tokenizer.from_pretrained(model_name_or_path)\n",
        "      input_ids = []\n",
        "      for string in self.strings:\n",
        "        input_ids.append(tokenizer(string, return_length=True))\n",
        "      return input_ids\n",
        "\n",
        "\n",
        "    def __len__(self):\n",
        "        return len(self.strings)\n",
        "\n",
        "\n",
        "    def __getitem__(self, idx):\n",
        "        return self.tokens[idx]"
      ],
      "execution_count": 42,
      "outputs": []
    },
    {
      "cell_type": "code",
      "metadata": {
        "id": "fT0QM84HDS2X"
      },
      "source": [
        "from transformers import DataCollatorForLanguageModeling\n",
        "tokenizer = GPT2Tokenizer.from_pretrained(\"sberbank-ai/rugpt3small_based_on_gpt2\")\n",
        "tokenizer.add_special_tokens({'pad_token': '[PAD]'})\n",
        "collator = DataCollatorForLanguageModeling(tokenizer = tokenizer, mlm=False)"
      ],
      "execution_count": 43,
      "outputs": []
    },
    {
      "cell_type": "code",
      "metadata": {
        "id": "faaaOVqv2tjN"
      },
      "source": [
        "training_data = TerraDataset('/content/drive/MyDrive/Colab Notebooks/TERRa/train.jsonl')\n",
        "predictions = training_data.predict\n",
        "train_dataloader = DataLoader(training_data, batch_size = 8, shuffle = True, collate_fn = collator)"
      ],
      "execution_count": 44,
      "outputs": []
    },
    {
      "cell_type": "code",
      "metadata": {
        "id": "5UR4aPuJO2f0"
      },
      "source": [
        "model = GPT2LMHeadModel.from_pretrained(\"sberbank-ai/rugpt3small_based_on_gpt2\")"
      ],
      "execution_count": 45,
      "outputs": []
    },
    {
      "cell_type": "code",
      "metadata": {
        "id": "38d__h9M5LAs"
      },
      "source": [
        "\n",
        "for batch_ndx, sample in enumerate(train_dataloader):\n",
        "    a = model(input_ids = sample['input_ids'],attention_mask = sample['attention_mask'],return_dict = True,output_hidden_states = True)['hidden_states'][-1]\n",
        "    l = sample['length']-1\n",
        "    l = l.unsqueeze(-1)\n",
        "    ind = l.repeat(1,768)\n",
        "    ind = ind.unsqueeze(1)\n",
        "    res = torch.gather(a, 1, ind)\n",
        "    if batch_ndx == 0:\n",
        "      break"
      ],
      "execution_count": 47,
      "outputs": []
    },
    {
      "cell_type": "code",
      "metadata": {
        "id": "wzQTPIroQyfb"
      },
      "source": [
        ""
      ],
      "execution_count": null,
      "outputs": []
    }
  ]
}