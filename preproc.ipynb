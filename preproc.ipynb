{
  "nbformat": 4,
  "nbformat_minor": 0,
  "metadata": {
    "colab": {
      "name": "preproc.ipynb",
      "provenance": [],
      "collapsed_sections": []
    },
    "kernelspec": {
      "name": "python3",
      "display_name": "Python 3"
    },
    "language_info": {
      "name": "python"
    },
    "accelerator": "GPU",
    "widgets": {
      "application/vnd.jupyter.widget-state+json": {
        "fbb22da716c94e7aa9460e4675be8b3f": {
          "model_module": "@jupyter-widgets/controls",
          "model_name": "HBoxModel",
          "state": {
            "_view_name": "HBoxView",
            "_dom_classes": [],
            "_model_name": "HBoxModel",
            "_view_module": "@jupyter-widgets/controls",
            "_model_module_version": "1.5.0",
            "_view_count": null,
            "_view_module_version": "1.5.0",
            "box_style": "",
            "layout": "IPY_MODEL_2f18511c5b2240c08356a711f403b781",
            "_model_module": "@jupyter-widgets/controls",
            "children": [
              "IPY_MODEL_80f1b50e231e46e1afa548a9ba6f7d67",
              "IPY_MODEL_e13eb3736a4a4d4ebeff670303236f84"
            ]
          }
        },
        "2f18511c5b2240c08356a711f403b781": {
          "model_module": "@jupyter-widgets/base",
          "model_name": "LayoutModel",
          "state": {
            "_view_name": "LayoutView",
            "grid_template_rows": null,
            "right": null,
            "justify_content": null,
            "_view_module": "@jupyter-widgets/base",
            "overflow": null,
            "_model_module_version": "1.2.0",
            "_view_count": null,
            "flex_flow": null,
            "width": null,
            "min_width": null,
            "border": null,
            "align_items": null,
            "bottom": null,
            "_model_module": "@jupyter-widgets/base",
            "top": null,
            "grid_column": null,
            "overflow_y": null,
            "overflow_x": null,
            "grid_auto_flow": null,
            "grid_area": null,
            "grid_template_columns": null,
            "flex": null,
            "_model_name": "LayoutModel",
            "justify_items": null,
            "grid_row": null,
            "max_height": null,
            "align_content": null,
            "visibility": null,
            "align_self": null,
            "height": null,
            "min_height": null,
            "padding": null,
            "grid_auto_rows": null,
            "grid_gap": null,
            "max_width": null,
            "order": null,
            "_view_module_version": "1.2.0",
            "grid_template_areas": null,
            "object_position": null,
            "object_fit": null,
            "grid_auto_columns": null,
            "margin": null,
            "display": null,
            "left": null
          }
        },
        "80f1b50e231e46e1afa548a9ba6f7d67": {
          "model_module": "@jupyter-widgets/controls",
          "model_name": "FloatProgressModel",
          "state": {
            "_view_name": "ProgressView",
            "style": "IPY_MODEL_47bb756737234e5b81957da5e9c343e5",
            "_dom_classes": [],
            "description": "Downloading: 100%",
            "_model_name": "FloatProgressModel",
            "bar_style": "success",
            "max": 1713123,
            "_view_module": "@jupyter-widgets/controls",
            "_model_module_version": "1.5.0",
            "value": 1713123,
            "_view_count": null,
            "_view_module_version": "1.5.0",
            "orientation": "horizontal",
            "min": 0,
            "description_tooltip": null,
            "_model_module": "@jupyter-widgets/controls",
            "layout": "IPY_MODEL_b0e3311f68044d6c90d74c9da6d2e079"
          }
        },
        "e13eb3736a4a4d4ebeff670303236f84": {
          "model_module": "@jupyter-widgets/controls",
          "model_name": "HTMLModel",
          "state": {
            "_view_name": "HTMLView",
            "style": "IPY_MODEL_15fc7d73e8bc4467a8d28902b7b589d2",
            "_dom_classes": [],
            "description": "",
            "_model_name": "HTMLModel",
            "placeholder": "​",
            "_view_module": "@jupyter-widgets/controls",
            "_model_module_version": "1.5.0",
            "value": " 1.71M/1.71M [00:02&lt;00:00, 738kB/s]",
            "_view_count": null,
            "_view_module_version": "1.5.0",
            "description_tooltip": null,
            "_model_module": "@jupyter-widgets/controls",
            "layout": "IPY_MODEL_d96098518d8f4f26921fe5f170f33919"
          }
        },
        "47bb756737234e5b81957da5e9c343e5": {
          "model_module": "@jupyter-widgets/controls",
          "model_name": "ProgressStyleModel",
          "state": {
            "_view_name": "StyleView",
            "_model_name": "ProgressStyleModel",
            "description_width": "initial",
            "_view_module": "@jupyter-widgets/base",
            "_model_module_version": "1.5.0",
            "_view_count": null,
            "_view_module_version": "1.2.0",
            "bar_color": null,
            "_model_module": "@jupyter-widgets/controls"
          }
        },
        "b0e3311f68044d6c90d74c9da6d2e079": {
          "model_module": "@jupyter-widgets/base",
          "model_name": "LayoutModel",
          "state": {
            "_view_name": "LayoutView",
            "grid_template_rows": null,
            "right": null,
            "justify_content": null,
            "_view_module": "@jupyter-widgets/base",
            "overflow": null,
            "_model_module_version": "1.2.0",
            "_view_count": null,
            "flex_flow": null,
            "width": null,
            "min_width": null,
            "border": null,
            "align_items": null,
            "bottom": null,
            "_model_module": "@jupyter-widgets/base",
            "top": null,
            "grid_column": null,
            "overflow_y": null,
            "overflow_x": null,
            "grid_auto_flow": null,
            "grid_area": null,
            "grid_template_columns": null,
            "flex": null,
            "_model_name": "LayoutModel",
            "justify_items": null,
            "grid_row": null,
            "max_height": null,
            "align_content": null,
            "visibility": null,
            "align_self": null,
            "height": null,
            "min_height": null,
            "padding": null,
            "grid_auto_rows": null,
            "grid_gap": null,
            "max_width": null,
            "order": null,
            "_view_module_version": "1.2.0",
            "grid_template_areas": null,
            "object_position": null,
            "object_fit": null,
            "grid_auto_columns": null,
            "margin": null,
            "display": null,
            "left": null
          }
        },
        "15fc7d73e8bc4467a8d28902b7b589d2": {
          "model_module": "@jupyter-widgets/controls",
          "model_name": "DescriptionStyleModel",
          "state": {
            "_view_name": "StyleView",
            "_model_name": "DescriptionStyleModel",
            "description_width": "",
            "_view_module": "@jupyter-widgets/base",
            "_model_module_version": "1.5.0",
            "_view_count": null,
            "_view_module_version": "1.2.0",
            "_model_module": "@jupyter-widgets/controls"
          }
        },
        "d96098518d8f4f26921fe5f170f33919": {
          "model_module": "@jupyter-widgets/base",
          "model_name": "LayoutModel",
          "state": {
            "_view_name": "LayoutView",
            "grid_template_rows": null,
            "right": null,
            "justify_content": null,
            "_view_module": "@jupyter-widgets/base",
            "overflow": null,
            "_model_module_version": "1.2.0",
            "_view_count": null,
            "flex_flow": null,
            "width": null,
            "min_width": null,
            "border": null,
            "align_items": null,
            "bottom": null,
            "_model_module": "@jupyter-widgets/base",
            "top": null,
            "grid_column": null,
            "overflow_y": null,
            "overflow_x": null,
            "grid_auto_flow": null,
            "grid_area": null,
            "grid_template_columns": null,
            "flex": null,
            "_model_name": "LayoutModel",
            "justify_items": null,
            "grid_row": null,
            "max_height": null,
            "align_content": null,
            "visibility": null,
            "align_self": null,
            "height": null,
            "min_height": null,
            "padding": null,
            "grid_auto_rows": null,
            "grid_gap": null,
            "max_width": null,
            "order": null,
            "_view_module_version": "1.2.0",
            "grid_template_areas": null,
            "object_position": null,
            "object_fit": null,
            "grid_auto_columns": null,
            "margin": null,
            "display": null,
            "left": null
          }
        },
        "1dfc290629a848169f65c273a959bdc7": {
          "model_module": "@jupyter-widgets/controls",
          "model_name": "HBoxModel",
          "state": {
            "_view_name": "HBoxView",
            "_dom_classes": [],
            "_model_name": "HBoxModel",
            "_view_module": "@jupyter-widgets/controls",
            "_model_module_version": "1.5.0",
            "_view_count": null,
            "_view_module_version": "1.5.0",
            "box_style": "",
            "layout": "IPY_MODEL_c0d38c4b36c24420bdd97805a7f6d9e0",
            "_model_module": "@jupyter-widgets/controls",
            "children": [
              "IPY_MODEL_417106d6160d41dabc9fcefbdb52ffed",
              "IPY_MODEL_1c4fb3ac624f495abfbe54bd67eb1fd2"
            ]
          }
        },
        "c0d38c4b36c24420bdd97805a7f6d9e0": {
          "model_module": "@jupyter-widgets/base",
          "model_name": "LayoutModel",
          "state": {
            "_view_name": "LayoutView",
            "grid_template_rows": null,
            "right": null,
            "justify_content": null,
            "_view_module": "@jupyter-widgets/base",
            "overflow": null,
            "_model_module_version": "1.2.0",
            "_view_count": null,
            "flex_flow": null,
            "width": null,
            "min_width": null,
            "border": null,
            "align_items": null,
            "bottom": null,
            "_model_module": "@jupyter-widgets/base",
            "top": null,
            "grid_column": null,
            "overflow_y": null,
            "overflow_x": null,
            "grid_auto_flow": null,
            "grid_area": null,
            "grid_template_columns": null,
            "flex": null,
            "_model_name": "LayoutModel",
            "justify_items": null,
            "grid_row": null,
            "max_height": null,
            "align_content": null,
            "visibility": null,
            "align_self": null,
            "height": null,
            "min_height": null,
            "padding": null,
            "grid_auto_rows": null,
            "grid_gap": null,
            "max_width": null,
            "order": null,
            "_view_module_version": "1.2.0",
            "grid_template_areas": null,
            "object_position": null,
            "object_fit": null,
            "grid_auto_columns": null,
            "margin": null,
            "display": null,
            "left": null
          }
        },
        "417106d6160d41dabc9fcefbdb52ffed": {
          "model_module": "@jupyter-widgets/controls",
          "model_name": "FloatProgressModel",
          "state": {
            "_view_name": "ProgressView",
            "style": "IPY_MODEL_7ec67dd7ae324bbba1da903842ad62da",
            "_dom_classes": [],
            "description": "Downloading: 100%",
            "_model_name": "FloatProgressModel",
            "bar_style": "success",
            "max": 1270925,
            "_view_module": "@jupyter-widgets/controls",
            "_model_module_version": "1.5.0",
            "value": 1270925,
            "_view_count": null,
            "_view_module_version": "1.5.0",
            "orientation": "horizontal",
            "min": 0,
            "description_tooltip": null,
            "_model_module": "@jupyter-widgets/controls",
            "layout": "IPY_MODEL_570fad47183f495594eaae5d76695d20"
          }
        },
        "1c4fb3ac624f495abfbe54bd67eb1fd2": {
          "model_module": "@jupyter-widgets/controls",
          "model_name": "HTMLModel",
          "state": {
            "_view_name": "HTMLView",
            "style": "IPY_MODEL_5ab71b83db0948babe100f73d11f55e7",
            "_dom_classes": [],
            "description": "",
            "_model_name": "HTMLModel",
            "placeholder": "​",
            "_view_module": "@jupyter-widgets/controls",
            "_model_module_version": "1.5.0",
            "value": " 1.27M/1.27M [00:01&lt;00:00, 875kB/s]",
            "_view_count": null,
            "_view_module_version": "1.5.0",
            "description_tooltip": null,
            "_model_module": "@jupyter-widgets/controls",
            "layout": "IPY_MODEL_f89580d3eaee40fc97704344619bae18"
          }
        },
        "7ec67dd7ae324bbba1da903842ad62da": {
          "model_module": "@jupyter-widgets/controls",
          "model_name": "ProgressStyleModel",
          "state": {
            "_view_name": "StyleView",
            "_model_name": "ProgressStyleModel",
            "description_width": "initial",
            "_view_module": "@jupyter-widgets/base",
            "_model_module_version": "1.5.0",
            "_view_count": null,
            "_view_module_version": "1.2.0",
            "bar_color": null,
            "_model_module": "@jupyter-widgets/controls"
          }
        },
        "570fad47183f495594eaae5d76695d20": {
          "model_module": "@jupyter-widgets/base",
          "model_name": "LayoutModel",
          "state": {
            "_view_name": "LayoutView",
            "grid_template_rows": null,
            "right": null,
            "justify_content": null,
            "_view_module": "@jupyter-widgets/base",
            "overflow": null,
            "_model_module_version": "1.2.0",
            "_view_count": null,
            "flex_flow": null,
            "width": null,
            "min_width": null,
            "border": null,
            "align_items": null,
            "bottom": null,
            "_model_module": "@jupyter-widgets/base",
            "top": null,
            "grid_column": null,
            "overflow_y": null,
            "overflow_x": null,
            "grid_auto_flow": null,
            "grid_area": null,
            "grid_template_columns": null,
            "flex": null,
            "_model_name": "LayoutModel",
            "justify_items": null,
            "grid_row": null,
            "max_height": null,
            "align_content": null,
            "visibility": null,
            "align_self": null,
            "height": null,
            "min_height": null,
            "padding": null,
            "grid_auto_rows": null,
            "grid_gap": null,
            "max_width": null,
            "order": null,
            "_view_module_version": "1.2.0",
            "grid_template_areas": null,
            "object_position": null,
            "object_fit": null,
            "grid_auto_columns": null,
            "margin": null,
            "display": null,
            "left": null
          }
        },
        "5ab71b83db0948babe100f73d11f55e7": {
          "model_module": "@jupyter-widgets/controls",
          "model_name": "DescriptionStyleModel",
          "state": {
            "_view_name": "StyleView",
            "_model_name": "DescriptionStyleModel",
            "description_width": "",
            "_view_module": "@jupyter-widgets/base",
            "_model_module_version": "1.5.0",
            "_view_count": null,
            "_view_module_version": "1.2.0",
            "_model_module": "@jupyter-widgets/controls"
          }
        },
        "f89580d3eaee40fc97704344619bae18": {
          "model_module": "@jupyter-widgets/base",
          "model_name": "LayoutModel",
          "state": {
            "_view_name": "LayoutView",
            "grid_template_rows": null,
            "right": null,
            "justify_content": null,
            "_view_module": "@jupyter-widgets/base",
            "overflow": null,
            "_model_module_version": "1.2.0",
            "_view_count": null,
            "flex_flow": null,
            "width": null,
            "min_width": null,
            "border": null,
            "align_items": null,
            "bottom": null,
            "_model_module": "@jupyter-widgets/base",
            "top": null,
            "grid_column": null,
            "overflow_y": null,
            "overflow_x": null,
            "grid_auto_flow": null,
            "grid_area": null,
            "grid_template_columns": null,
            "flex": null,
            "_model_name": "LayoutModel",
            "justify_items": null,
            "grid_row": null,
            "max_height": null,
            "align_content": null,
            "visibility": null,
            "align_self": null,
            "height": null,
            "min_height": null,
            "padding": null,
            "grid_auto_rows": null,
            "grid_gap": null,
            "max_width": null,
            "order": null,
            "_view_module_version": "1.2.0",
            "grid_template_areas": null,
            "object_position": null,
            "object_fit": null,
            "grid_auto_columns": null,
            "margin": null,
            "display": null,
            "left": null
          }
        },
        "61996dae7ca5478297341e3cfe6d252b": {
          "model_module": "@jupyter-widgets/controls",
          "model_name": "HBoxModel",
          "state": {
            "_view_name": "HBoxView",
            "_dom_classes": [],
            "_model_name": "HBoxModel",
            "_view_module": "@jupyter-widgets/controls",
            "_model_module_version": "1.5.0",
            "_view_count": null,
            "_view_module_version": "1.5.0",
            "box_style": "",
            "layout": "IPY_MODEL_a8fd96c056fc4a1f9f6f3cccf3e315e0",
            "_model_module": "@jupyter-widgets/controls",
            "children": [
              "IPY_MODEL_1d4c1af8f3ff4984b81de465b23feff5",
              "IPY_MODEL_a42d0f301d174e0ea6701c2987eeb77a"
            ]
          }
        },
        "a8fd96c056fc4a1f9f6f3cccf3e315e0": {
          "model_module": "@jupyter-widgets/base",
          "model_name": "LayoutModel",
          "state": {
            "_view_name": "LayoutView",
            "grid_template_rows": null,
            "right": null,
            "justify_content": null,
            "_view_module": "@jupyter-widgets/base",
            "overflow": null,
            "_model_module_version": "1.2.0",
            "_view_count": null,
            "flex_flow": null,
            "width": null,
            "min_width": null,
            "border": null,
            "align_items": null,
            "bottom": null,
            "_model_module": "@jupyter-widgets/base",
            "top": null,
            "grid_column": null,
            "overflow_y": null,
            "overflow_x": null,
            "grid_auto_flow": null,
            "grid_area": null,
            "grid_template_columns": null,
            "flex": null,
            "_model_name": "LayoutModel",
            "justify_items": null,
            "grid_row": null,
            "max_height": null,
            "align_content": null,
            "visibility": null,
            "align_self": null,
            "height": null,
            "min_height": null,
            "padding": null,
            "grid_auto_rows": null,
            "grid_gap": null,
            "max_width": null,
            "order": null,
            "_view_module_version": "1.2.0",
            "grid_template_areas": null,
            "object_position": null,
            "object_fit": null,
            "grid_auto_columns": null,
            "margin": null,
            "display": null,
            "left": null
          }
        },
        "1d4c1af8f3ff4984b81de465b23feff5": {
          "model_module": "@jupyter-widgets/controls",
          "model_name": "FloatProgressModel",
          "state": {
            "_view_name": "ProgressView",
            "style": "IPY_MODEL_ab938033372a458291d23834efd26bbc",
            "_dom_classes": [],
            "description": "Downloading: 100%",
            "_model_name": "FloatProgressModel",
            "bar_style": "success",
            "max": 608,
            "_view_module": "@jupyter-widgets/controls",
            "_model_module_version": "1.5.0",
            "value": 608,
            "_view_count": null,
            "_view_module_version": "1.5.0",
            "orientation": "horizontal",
            "min": 0,
            "description_tooltip": null,
            "_model_module": "@jupyter-widgets/controls",
            "layout": "IPY_MODEL_97e59ff8f64a484292a80315c9186b7e"
          }
        },
        "a42d0f301d174e0ea6701c2987eeb77a": {
          "model_module": "@jupyter-widgets/controls",
          "model_name": "HTMLModel",
          "state": {
            "_view_name": "HTMLView",
            "style": "IPY_MODEL_0c3cb300005847bfaad3038c5838ab80",
            "_dom_classes": [],
            "description": "",
            "_model_name": "HTMLModel",
            "placeholder": "​",
            "_view_module": "@jupyter-widgets/controls",
            "_model_module_version": "1.5.0",
            "value": " 608/608 [00:00&lt;00:00, 1.18kB/s]",
            "_view_count": null,
            "_view_module_version": "1.5.0",
            "description_tooltip": null,
            "_model_module": "@jupyter-widgets/controls",
            "layout": "IPY_MODEL_a0de47ef66534ef2aa41b54b22da77e3"
          }
        },
        "ab938033372a458291d23834efd26bbc": {
          "model_module": "@jupyter-widgets/controls",
          "model_name": "ProgressStyleModel",
          "state": {
            "_view_name": "StyleView",
            "_model_name": "ProgressStyleModel",
            "description_width": "initial",
            "_view_module": "@jupyter-widgets/base",
            "_model_module_version": "1.5.0",
            "_view_count": null,
            "_view_module_version": "1.2.0",
            "bar_color": null,
            "_model_module": "@jupyter-widgets/controls"
          }
        },
        "97e59ff8f64a484292a80315c9186b7e": {
          "model_module": "@jupyter-widgets/base",
          "model_name": "LayoutModel",
          "state": {
            "_view_name": "LayoutView",
            "grid_template_rows": null,
            "right": null,
            "justify_content": null,
            "_view_module": "@jupyter-widgets/base",
            "overflow": null,
            "_model_module_version": "1.2.0",
            "_view_count": null,
            "flex_flow": null,
            "width": null,
            "min_width": null,
            "border": null,
            "align_items": null,
            "bottom": null,
            "_model_module": "@jupyter-widgets/base",
            "top": null,
            "grid_column": null,
            "overflow_y": null,
            "overflow_x": null,
            "grid_auto_flow": null,
            "grid_area": null,
            "grid_template_columns": null,
            "flex": null,
            "_model_name": "LayoutModel",
            "justify_items": null,
            "grid_row": null,
            "max_height": null,
            "align_content": null,
            "visibility": null,
            "align_self": null,
            "height": null,
            "min_height": null,
            "padding": null,
            "grid_auto_rows": null,
            "grid_gap": null,
            "max_width": null,
            "order": null,
            "_view_module_version": "1.2.0",
            "grid_template_areas": null,
            "object_position": null,
            "object_fit": null,
            "grid_auto_columns": null,
            "margin": null,
            "display": null,
            "left": null
          }
        },
        "0c3cb300005847bfaad3038c5838ab80": {
          "model_module": "@jupyter-widgets/controls",
          "model_name": "DescriptionStyleModel",
          "state": {
            "_view_name": "StyleView",
            "_model_name": "DescriptionStyleModel",
            "description_width": "",
            "_view_module": "@jupyter-widgets/base",
            "_model_module_version": "1.5.0",
            "_view_count": null,
            "_view_module_version": "1.2.0",
            "_model_module": "@jupyter-widgets/controls"
          }
        },
        "a0de47ef66534ef2aa41b54b22da77e3": {
          "model_module": "@jupyter-widgets/base",
          "model_name": "LayoutModel",
          "state": {
            "_view_name": "LayoutView",
            "grid_template_rows": null,
            "right": null,
            "justify_content": null,
            "_view_module": "@jupyter-widgets/base",
            "overflow": null,
            "_model_module_version": "1.2.0",
            "_view_count": null,
            "flex_flow": null,
            "width": null,
            "min_width": null,
            "border": null,
            "align_items": null,
            "bottom": null,
            "_model_module": "@jupyter-widgets/base",
            "top": null,
            "grid_column": null,
            "overflow_y": null,
            "overflow_x": null,
            "grid_auto_flow": null,
            "grid_area": null,
            "grid_template_columns": null,
            "flex": null,
            "_model_name": "LayoutModel",
            "justify_items": null,
            "grid_row": null,
            "max_height": null,
            "align_content": null,
            "visibility": null,
            "align_self": null,
            "height": null,
            "min_height": null,
            "padding": null,
            "grid_auto_rows": null,
            "grid_gap": null,
            "max_width": null,
            "order": null,
            "_view_module_version": "1.2.0",
            "grid_template_areas": null,
            "object_position": null,
            "object_fit": null,
            "grid_auto_columns": null,
            "margin": null,
            "display": null,
            "left": null
          }
        },
        "250428a00f484c23b45f8ed56f2c4538": {
          "model_module": "@jupyter-widgets/controls",
          "model_name": "HBoxModel",
          "state": {
            "_view_name": "HBoxView",
            "_dom_classes": [],
            "_model_name": "HBoxModel",
            "_view_module": "@jupyter-widgets/controls",
            "_model_module_version": "1.5.0",
            "_view_count": null,
            "_view_module_version": "1.5.0",
            "box_style": "",
            "layout": "IPY_MODEL_460c891e253243b282b365ce43bb1cf6",
            "_model_module": "@jupyter-widgets/controls",
            "children": [
              "IPY_MODEL_be1e36c99fe94372bb5f6c641035571c",
              "IPY_MODEL_a28b654846d546d79f197ee13d36c0ea"
            ]
          }
        },
        "460c891e253243b282b365ce43bb1cf6": {
          "model_module": "@jupyter-widgets/base",
          "model_name": "LayoutModel",
          "state": {
            "_view_name": "LayoutView",
            "grid_template_rows": null,
            "right": null,
            "justify_content": null,
            "_view_module": "@jupyter-widgets/base",
            "overflow": null,
            "_model_module_version": "1.2.0",
            "_view_count": null,
            "flex_flow": null,
            "width": null,
            "min_width": null,
            "border": null,
            "align_items": null,
            "bottom": null,
            "_model_module": "@jupyter-widgets/base",
            "top": null,
            "grid_column": null,
            "overflow_y": null,
            "overflow_x": null,
            "grid_auto_flow": null,
            "grid_area": null,
            "grid_template_columns": null,
            "flex": null,
            "_model_name": "LayoutModel",
            "justify_items": null,
            "grid_row": null,
            "max_height": null,
            "align_content": null,
            "visibility": null,
            "align_self": null,
            "height": null,
            "min_height": null,
            "padding": null,
            "grid_auto_rows": null,
            "grid_gap": null,
            "max_width": null,
            "order": null,
            "_view_module_version": "1.2.0",
            "grid_template_areas": null,
            "object_position": null,
            "object_fit": null,
            "grid_auto_columns": null,
            "margin": null,
            "display": null,
            "left": null
          }
        },
        "be1e36c99fe94372bb5f6c641035571c": {
          "model_module": "@jupyter-widgets/controls",
          "model_name": "FloatProgressModel",
          "state": {
            "_view_name": "ProgressView",
            "style": "IPY_MODEL_0e4a547d26944797991a43db3bb79bef",
            "_dom_classes": [],
            "description": "Downloading: 100%",
            "_model_name": "FloatProgressModel",
            "bar_style": "success",
            "max": 551290714,
            "_view_module": "@jupyter-widgets/controls",
            "_model_module_version": "1.5.0",
            "value": 551290714,
            "_view_count": null,
            "_view_module_version": "1.5.0",
            "orientation": "horizontal",
            "min": 0,
            "description_tooltip": null,
            "_model_module": "@jupyter-widgets/controls",
            "layout": "IPY_MODEL_49a71f1a422e4969aa2c840b63c9873c"
          }
        },
        "a28b654846d546d79f197ee13d36c0ea": {
          "model_module": "@jupyter-widgets/controls",
          "model_name": "HTMLModel",
          "state": {
            "_view_name": "HTMLView",
            "style": "IPY_MODEL_7015fff273c74748a4da12ad5daca2ee",
            "_dom_classes": [],
            "description": "",
            "_model_name": "HTMLModel",
            "placeholder": "​",
            "_view_module": "@jupyter-widgets/controls",
            "_model_module_version": "1.5.0",
            "value": " 551M/551M [00:11&lt;00:00, 46.1MB/s]",
            "_view_count": null,
            "_view_module_version": "1.5.0",
            "description_tooltip": null,
            "_model_module": "@jupyter-widgets/controls",
            "layout": "IPY_MODEL_673007791bed458aabb008f3b1e8b5d6"
          }
        },
        "0e4a547d26944797991a43db3bb79bef": {
          "model_module": "@jupyter-widgets/controls",
          "model_name": "ProgressStyleModel",
          "state": {
            "_view_name": "StyleView",
            "_model_name": "ProgressStyleModel",
            "description_width": "initial",
            "_view_module": "@jupyter-widgets/base",
            "_model_module_version": "1.5.0",
            "_view_count": null,
            "_view_module_version": "1.2.0",
            "bar_color": null,
            "_model_module": "@jupyter-widgets/controls"
          }
        },
        "49a71f1a422e4969aa2c840b63c9873c": {
          "model_module": "@jupyter-widgets/base",
          "model_name": "LayoutModel",
          "state": {
            "_view_name": "LayoutView",
            "grid_template_rows": null,
            "right": null,
            "justify_content": null,
            "_view_module": "@jupyter-widgets/base",
            "overflow": null,
            "_model_module_version": "1.2.0",
            "_view_count": null,
            "flex_flow": null,
            "width": null,
            "min_width": null,
            "border": null,
            "align_items": null,
            "bottom": null,
            "_model_module": "@jupyter-widgets/base",
            "top": null,
            "grid_column": null,
            "overflow_y": null,
            "overflow_x": null,
            "grid_auto_flow": null,
            "grid_area": null,
            "grid_template_columns": null,
            "flex": null,
            "_model_name": "LayoutModel",
            "justify_items": null,
            "grid_row": null,
            "max_height": null,
            "align_content": null,
            "visibility": null,
            "align_self": null,
            "height": null,
            "min_height": null,
            "padding": null,
            "grid_auto_rows": null,
            "grid_gap": null,
            "max_width": null,
            "order": null,
            "_view_module_version": "1.2.0",
            "grid_template_areas": null,
            "object_position": null,
            "object_fit": null,
            "grid_auto_columns": null,
            "margin": null,
            "display": null,
            "left": null
          }
        },
        "7015fff273c74748a4da12ad5daca2ee": {
          "model_module": "@jupyter-widgets/controls",
          "model_name": "DescriptionStyleModel",
          "state": {
            "_view_name": "StyleView",
            "_model_name": "DescriptionStyleModel",
            "description_width": "",
            "_view_module": "@jupyter-widgets/base",
            "_model_module_version": "1.5.0",
            "_view_count": null,
            "_view_module_version": "1.2.0",
            "_model_module": "@jupyter-widgets/controls"
          }
        },
        "673007791bed458aabb008f3b1e8b5d6": {
          "model_module": "@jupyter-widgets/base",
          "model_name": "LayoutModel",
          "state": {
            "_view_name": "LayoutView",
            "grid_template_rows": null,
            "right": null,
            "justify_content": null,
            "_view_module": "@jupyter-widgets/base",
            "overflow": null,
            "_model_module_version": "1.2.0",
            "_view_count": null,
            "flex_flow": null,
            "width": null,
            "min_width": null,
            "border": null,
            "align_items": null,
            "bottom": null,
            "_model_module": "@jupyter-widgets/base",
            "top": null,
            "grid_column": null,
            "overflow_y": null,
            "overflow_x": null,
            "grid_auto_flow": null,
            "grid_area": null,
            "grid_template_columns": null,
            "flex": null,
            "_model_name": "LayoutModel",
            "justify_items": null,
            "grid_row": null,
            "max_height": null,
            "align_content": null,
            "visibility": null,
            "align_self": null,
            "height": null,
            "min_height": null,
            "padding": null,
            "grid_auto_rows": null,
            "grid_gap": null,
            "max_width": null,
            "order": null,
            "_view_module_version": "1.2.0",
            "grid_template_areas": null,
            "object_position": null,
            "object_fit": null,
            "grid_auto_columns": null,
            "margin": null,
            "display": null,
            "left": null
          }
        }
      }
    }
  },
  "cells": [
    {
      "cell_type": "code",
      "metadata": {
        "id": "dP08R8JKar1O"
      },
      "source": [
        "import json\n",
        "from transformers import GPT2LMHeadModel, GPT2Tokenizer"
      ],
      "execution_count": 8,
      "outputs": []
    },
    {
      "cell_type": "code",
      "metadata": {
        "id": "vHv0AiY0u_if"
      },
      "source": [
        "import torch\n",
        "from torch.utils.data import Dataset\n",
        "from torch.utils.data import DataLoader\n",
        "class TerraDataset(Dataset):\n",
        "\n",
        "\n",
        "    def __init__(self, file):\n",
        "        self.file = file\n",
        "        self.strings = self.load()\n",
        "        self.tokens = self.transform()\n",
        "\n",
        "    def load(self):\n",
        "      data = [json.loads(d) for d in open(self.file, encoding=\"utf-8\")]\n",
        "      s1 = []\n",
        "      for a in data:\n",
        "        s1.append( a['premise']+' ~> '+a['hypothesis'])\n",
        "      return s1\n",
        "\n",
        "\n",
        "    def transform(self):\n",
        "      model_name_or_path = \"sberbank-ai/rugpt3small_based_on_gpt2\"\n",
        "      tokenizer = GPT2Tokenizer.from_pretrained(model_name_or_path)\n",
        "      input_ids = []\n",
        "      for string in self.strings:\n",
        "        input_ids.append(tokenizer(string))\n",
        "      return input_ids\n",
        "\n",
        "\n",
        "    def __len__(self):\n",
        "        return len(self.strings)\n",
        "\n",
        "\n",
        "    def __getitem__(self, idx):\n",
        "        return self.tokens[idx]"
      ],
      "execution_count": 9,
      "outputs": []
    },
    {
      "cell_type": "code",
      "metadata": {
        "colab": {
          "base_uri": "https://localhost:8080/",
          "height": 116,
          "referenced_widgets": [
            "fbb22da716c94e7aa9460e4675be8b3f",
            "2f18511c5b2240c08356a711f403b781",
            "80f1b50e231e46e1afa548a9ba6f7d67",
            "e13eb3736a4a4d4ebeff670303236f84",
            "47bb756737234e5b81957da5e9c343e5",
            "b0e3311f68044d6c90d74c9da6d2e079",
            "15fc7d73e8bc4467a8d28902b7b589d2",
            "d96098518d8f4f26921fe5f170f33919",
            "1dfc290629a848169f65c273a959bdc7",
            "c0d38c4b36c24420bdd97805a7f6d9e0",
            "417106d6160d41dabc9fcefbdb52ffed",
            "1c4fb3ac624f495abfbe54bd67eb1fd2",
            "7ec67dd7ae324bbba1da903842ad62da",
            "570fad47183f495594eaae5d76695d20",
            "5ab71b83db0948babe100f73d11f55e7",
            "f89580d3eaee40fc97704344619bae18"
          ]
        },
        "id": "fT0QM84HDS2X",
        "outputId": "f4523f44-0dba-4f19-c04f-0bca201c97a5"
      },
      "source": [
        "from transformers import DataCollatorForLanguageModeling\n",
        "tokenizer = GPT2Tokenizer.from_pretrained(\"sberbank-ai/rugpt3small_based_on_gpt2\")\n",
        "tokenizer.add_special_tokens({'pad_token': '[PAD]'})\n",
        "collator = DataCollatorForLanguageModeling(tokenizer = tokenizer, mlm=False)"
      ],
      "execution_count": 10,
      "outputs": [
        {
          "output_type": "display_data",
          "data": {
            "application/vnd.jupyter.widget-view+json": {
              "model_id": "fbb22da716c94e7aa9460e4675be8b3f",
              "version_minor": 0,
              "version_major": 2
            },
            "text/plain": [
              "HBox(children=(FloatProgress(value=0.0, description='Downloading', max=1713123.0, style=ProgressStyle(descript…"
            ]
          },
          "metadata": {
            "tags": []
          }
        },
        {
          "output_type": "stream",
          "text": [
            "\n"
          ],
          "name": "stdout"
        },
        {
          "output_type": "display_data",
          "data": {
            "application/vnd.jupyter.widget-view+json": {
              "model_id": "1dfc290629a848169f65c273a959bdc7",
              "version_minor": 0,
              "version_major": 2
            },
            "text/plain": [
              "HBox(children=(FloatProgress(value=0.0, description='Downloading', max=1270925.0, style=ProgressStyle(descript…"
            ]
          },
          "metadata": {
            "tags": []
          }
        },
        {
          "output_type": "stream",
          "text": [
            "\n"
          ],
          "name": "stdout"
        }
      ]
    },
    {
      "cell_type": "code",
      "metadata": {
        "id": "faaaOVqv2tjN"
      },
      "source": [
        "training_data = TerraDataset('/content/drive/MyDrive/Colab Notebooks/TERRa/train.jsonl')\n",
        "train_dataloader = DataLoader(training_data, batch_size = 8, shuffle = True, collate_fn = collator)"
      ],
      "execution_count": 11,
      "outputs": []
    },
    {
      "cell_type": "code",
      "metadata": {
        "colab": {
          "base_uri": "https://localhost:8080/",
          "height": 116,
          "referenced_widgets": [
            "61996dae7ca5478297341e3cfe6d252b",
            "a8fd96c056fc4a1f9f6f3cccf3e315e0",
            "1d4c1af8f3ff4984b81de465b23feff5",
            "a42d0f301d174e0ea6701c2987eeb77a",
            "ab938033372a458291d23834efd26bbc",
            "97e59ff8f64a484292a80315c9186b7e",
            "0c3cb300005847bfaad3038c5838ab80",
            "a0de47ef66534ef2aa41b54b22da77e3",
            "250428a00f484c23b45f8ed56f2c4538",
            "460c891e253243b282b365ce43bb1cf6",
            "be1e36c99fe94372bb5f6c641035571c",
            "a28b654846d546d79f197ee13d36c0ea",
            "0e4a547d26944797991a43db3bb79bef",
            "49a71f1a422e4969aa2c840b63c9873c",
            "7015fff273c74748a4da12ad5daca2ee",
            "673007791bed458aabb008f3b1e8b5d6"
          ]
        },
        "id": "5UR4aPuJO2f0",
        "outputId": "30f09f7e-75d2-4848-d072-fda546a4724b"
      },
      "source": [
        "model = GPT2LMHeadModel.from_pretrained(\"sberbank-ai/rugpt3small_based_on_gpt2\")"
      ],
      "execution_count": 12,
      "outputs": [
        {
          "output_type": "display_data",
          "data": {
            "application/vnd.jupyter.widget-view+json": {
              "model_id": "61996dae7ca5478297341e3cfe6d252b",
              "version_minor": 0,
              "version_major": 2
            },
            "text/plain": [
              "HBox(children=(FloatProgress(value=0.0, description='Downloading', max=608.0, style=ProgressStyle(description_…"
            ]
          },
          "metadata": {
            "tags": []
          }
        },
        {
          "output_type": "stream",
          "text": [
            "\n"
          ],
          "name": "stdout"
        },
        {
          "output_type": "display_data",
          "data": {
            "application/vnd.jupyter.widget-view+json": {
              "model_id": "250428a00f484c23b45f8ed56f2c4538",
              "version_minor": 0,
              "version_major": 2
            },
            "text/plain": [
              "HBox(children=(FloatProgress(value=0.0, description='Downloading', max=551290714.0, style=ProgressStyle(descri…"
            ]
          },
          "metadata": {
            "tags": []
          }
        },
        {
          "output_type": "stream",
          "text": [
            "\n"
          ],
          "name": "stdout"
        }
      ]
    },
    {
      "cell_type": "code",
      "metadata": {
        "id": "38d__h9M5LAs"
      },
      "source": [
        "l = []\n",
        "for batch_ndx, sample in enumerate(train_dataloader):\n",
        "    for i in range(8):\n",
        "      l.append(len(sample['input_ids'][i][sample['input_ids'][i]<50257]))\n",
        "    a = model(input_ids = sample['input_ids'],attention_mask = sample['attention_mask'],return_dict = True,output_hidden_states = True)['hidden_states'][-1]\n",
        "    if batch_ndx == 0:\n",
        "      break"
      ],
      "execution_count": 35,
      "outputs": []
    },
    {
      "cell_type": "code",
      "metadata": {
        "colab": {
          "base_uri": "https://localhost:8080/"
        },
        "id": "O-iDivY2PIZj",
        "outputId": "1a17e996-7479-4742-830b-e541258b558e"
      },
      "source": [
        "for i in range(len(l)):\n",
        "  print(a[i][:l[i]])\n",
        "  print(len(a[i][:l[i]]))"
      ],
      "execution_count": 36,
      "outputs": [
        {
          "output_type": "stream",
          "text": [
            "tensor([[-0.2270,  0.6160, -1.5585,  ...,  0.4662, -0.2358,  0.0687],\n",
            "        [ 0.7264,  0.4682,  0.2207,  ..., -0.1492, -0.4717,  0.4951],\n",
            "        [ 0.4565,  0.9379, -1.8596,  ..., -1.3401, -0.1594, -0.9761],\n",
            "        ...,\n",
            "        [-0.1426,  1.0398,  0.2604,  ...,  1.6875, -0.7068,  0.3179],\n",
            "        [ 1.1666, -0.1701,  0.2802,  ..., -0.0688, -1.1162,  0.8281],\n",
            "        [ 0.1356,  0.0768, -0.9397,  ...,  0.1016, -0.2293,  0.1786]],\n",
            "       grad_fn=<SliceBackward>)\n",
            "22\n",
            "tensor([[ 0.4087,  0.6969, -1.1862,  ...,  0.7027, -0.2365, -0.2996],\n",
            "        [ 0.4895,  1.4049, -0.9997,  ...,  2.4376, -1.5799,  0.4110],\n",
            "        [-0.6061,  1.2796, -0.1095,  ...,  0.9793,  0.0112, -0.3486],\n",
            "        ...,\n",
            "        [-1.4037,  1.2565,  1.4036,  ...,  1.4117, -0.4222,  0.2294],\n",
            "        [-0.5907, -0.0746,  0.2566,  ..., -0.9806, -1.3750,  0.7238],\n",
            "        [ 0.6737, -0.3793, -0.5567,  ..., -0.9508, -0.1273,  1.1467]],\n",
            "       grad_fn=<SliceBackward>)\n",
            "106\n",
            "tensor([[-0.1411,  0.4318, -1.5266,  ...,  0.3838,  0.0608, -0.0612],\n",
            "        [ 0.5373, -0.3991,  0.1867,  ...,  0.0433,  0.2726,  0.4236],\n",
            "        [ 0.9828, -0.6111, -0.9951,  ..., -0.3873, -0.1375, -1.3721],\n",
            "        ...,\n",
            "        [-1.1724, -1.2801, -1.9296,  ..., -0.5335,  0.2453, -0.9570],\n",
            "        [-0.8630, -0.4323, -0.6958,  ...,  0.3341,  0.4862, -1.0460],\n",
            "        [ 0.3294, -0.1526, -1.7382,  ...,  0.7943,  0.9726, -0.4907]],\n",
            "       grad_fn=<SliceBackward>)\n",
            "32\n",
            "tensor([[-0.2716,  0.8677, -1.5246,  ...,  0.5965,  0.0683, -0.8612],\n",
            "        [ 1.7597,  1.7322, -1.3619,  ...,  1.2318, -0.3057,  0.2743],\n",
            "        [ 0.5882,  0.5996, -0.6305,  ..., -0.3907,  0.1525,  0.4533],\n",
            "        ...,\n",
            "        [ 0.2002,  0.3867, -0.2246,  ...,  0.1263, -0.5730,  0.3847],\n",
            "        [ 1.1109, -0.8933,  0.3179,  ...,  0.1803, -1.2826, -0.2886],\n",
            "        [ 0.5889, -0.4352, -0.4614,  ...,  0.5472,  0.4389,  0.1243]],\n",
            "       grad_fn=<SliceBackward>)\n",
            "50\n",
            "tensor([[ 0.4087,  0.6969, -1.1862,  ...,  0.7027, -0.2365, -0.2996],\n",
            "        [-0.7742, -0.9307, -0.5410,  ...,  0.9332, -0.8256, -0.2484],\n",
            "        [ 1.0119,  0.1297,  1.0598,  ..., -0.3604, -0.4556,  0.7243],\n",
            "        ...,\n",
            "        [-1.4203, -1.1261,  1.0867,  ...,  0.7553, -1.1492,  0.3408],\n",
            "        [ 1.1835,  0.8355,  0.7496,  ...,  1.0427, -1.0569,  0.0477],\n",
            "        [ 0.2891,  0.3427, -0.9385,  ...,  0.3528, -0.3134,  0.6034]],\n",
            "       grad_fn=<SliceBackward>)\n",
            "121\n",
            "tensor([[ 0.4087,  0.6969, -1.1862,  ...,  0.7027, -0.2365, -0.2996],\n",
            "        [-0.0735,  0.1392, -0.1144,  ...,  1.0251, -0.8047,  1.4996],\n",
            "        [-0.0442,  0.3071, -1.1971,  ...,  0.5936,  0.0782, -0.0578],\n",
            "        ...,\n",
            "        [-0.4915, -0.3569, -0.1359,  ..., -0.0949,  0.3507, -0.2459],\n",
            "        [ 0.1574,  1.2370, -0.2702,  ...,  0.3842,  0.5280,  1.3582],\n",
            "        [-0.3259,  1.3833, -0.2867,  ...,  0.2342,  0.3641,  0.2636]],\n",
            "       grad_fn=<SliceBackward>)\n",
            "116\n",
            "tensor([[ 0.0085,  1.1893, -1.4793,  ...,  1.0565, -0.0576,  0.6926],\n",
            "        [-0.1579,  0.3102, -1.3667,  ...,  2.2552, -0.7442,  0.9930],\n",
            "        [ 1.4243,  1.1747, -1.3714,  ...,  1.6805, -1.7442,  1.1601],\n",
            "        ...,\n",
            "        [ 0.0153, -1.1937, -1.1065,  ...,  1.7703, -0.5743,  1.9994],\n",
            "        [ 1.4544, -0.0934, -0.7361,  ...,  1.3927, -1.3513,  0.8343],\n",
            "        [ 0.6137, -0.2446, -1.2894,  ...,  0.6422,  0.0664,  0.2825]],\n",
            "       grad_fn=<SliceBackward>)\n",
            "36\n",
            "tensor([[ 0.1329,  0.2983, -1.4474,  ...,  0.4477, -0.3455, -0.7361],\n",
            "        [ 0.0490,  0.3029, -0.9921,  ...,  0.5434,  0.2107,  0.3216],\n",
            "        [ 1.0867,  0.6479, -0.9167,  ...,  0.0884,  0.5314, -0.7852],\n",
            "        ...,\n",
            "        [ 0.0110, -0.6688, -0.1273,  ..., -0.7608,  0.1943,  2.7011],\n",
            "        [ 0.9482, -1.3731,  0.5166,  ..., -0.6934,  0.3555,  0.3724],\n",
            "        [ 0.6421, -0.7189, -0.1623,  ..., -0.4964,  1.1755,  0.7670]],\n",
            "       grad_fn=<SliceBackward>)\n",
            "35\n"
          ],
          "name": "stdout"
        }
      ]
    },
    {
      "cell_type": "code",
      "metadata": {
        "id": "U955BartW21F"
      },
      "source": [
        ""
      ],
      "execution_count": null,
      "outputs": []
    }
  ]
}